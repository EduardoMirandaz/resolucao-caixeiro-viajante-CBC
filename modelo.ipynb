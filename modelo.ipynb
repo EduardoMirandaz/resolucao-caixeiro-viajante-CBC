{
  "cells": [
    {
      "cell_type": "code",
      "source": [
        "!pip install mip"
      ],
      "metadata": {
        "colab": {
          "base_uri": "https://localhost:8080/"
        },
        "id": "xptOH6wtCoDV",
        "outputId": "5b0f5ce1-f008-4629-befa-49a72744c0a0"
      },
      "execution_count": null,
      "outputs": [
        {
          "output_type": "stream",
          "name": "stdout",
          "text": [
            "Looking in indexes: https://pypi.org/simple, https://us-python.pkg.dev/colab-wheels/public/simple/\n",
            "Requirement already satisfied: mip in /usr/local/lib/python3.8/dist-packages (1.14.2)\n",
            "Requirement already satisfied: cffi==1.15.0 in /usr/local/lib/python3.8/dist-packages (from mip) (1.15.0)\n",
            "Requirement already satisfied: pycparser in /usr/local/lib/python3.8/dist-packages (from cffi==1.15.0->mip) (2.21)\n"
          ]
        }
      ]
    },
    {
      "cell_type": "code",
      "execution_count": null,
      "metadata": {
        "id": "zWxKCANyCnRZ"
      },
      "outputs": [],
      "source": [
        "import mip\n",
        "import numpy as np\n",
        "import matplotlib.pyplot as pp"
      ]
    },
    {
      "cell_type": "code",
      "source": [
        "np.random.seed( 1728361287 )"
      ],
      "metadata": {
        "id": "7adVuBvDVyy5"
      },
      "execution_count": null,
      "outputs": []
    },
    {
      "cell_type": "code",
      "execution_count": null,
      "metadata": {
        "id": "IuI7CzGkCnRb",
        "colab": {
          "base_uri": "https://localhost:8080/"
        },
        "outputId": "ba72d3e9-b903-4524-a138-0e54fb87551f"
      },
      "outputs": [
        {
          "output_type": "stream",
          "name": "stdout",
          "text": [
            "[array([-8.44300759,  0.07055571]), array([-3.96643436,  5.04903296]), array([-13.01019415,   1.71225462]), array([10.3732528 , -6.34199635]), array([-10.98798273,  -7.88530318]), array([-16.55435733,   6.38779882]), array([  9.29928323, -13.55594957]), array([ 4.03967194, 10.15003033]), array([ 6.23122753, -1.63896828]), array([-8.97666627, -9.54035641]), array([-11.55681867,   0.15022458]), array([-11.70726753,  -3.39428484]), array([ 1.16640045, 11.64004582]), array([2.25554607, 7.42145066]), array([-2.17609778,  5.03054892]), array([-22.0425515 ,  11.28683081]), array([-20.92020749,   2.38044083]), array([ 8.93080415, 12.81789504]), array([ 14.49203358, -11.4339739 ]), array([-10.76184343,   0.92917958]), array([-0.36097895, 14.13871454])]\n"
          ]
        }
      ],
      "source": [
        "n = 21\n",
        "\n",
        "nodes = []\n",
        "for i in range( n ):\n",
        "    nodes.append( 10 * np.random.normal( size = ( 2, ) ) )\n"
      ]
    },
    {
      "cell_type": "code",
      "execution_count": null,
      "metadata": {
        "id": "FC0xhdPECnRc"
      },
      "outputs": [],
      "source": [
        "C = np.zeros( ( n, n ) )\n",
        "\n",
        "for i in range( n ):\n",
        "    for j in range( i + 1, n ):\n",
        "        C[ i, j ] = np.linalg.norm( nodes[ i ] - nodes[ j ] )\n",
        "        C[ j, i ] = C[ i, j ]"
      ]
    },
    {
      "cell_type": "code",
      "execution_count": null,
      "metadata": {
        "id": "jbJwXrfjCnRc"
      },
      "outputs": [],
      "source": [
        "m = mip.Model( sense = mip.MINIMIZE, solver_name = mip.CBC )"
      ]
    },
    {
      "cell_type": "code",
      "execution_count": null,
      "metadata": {
        "id": "IY4znxJVCnRc"
      },
      "outputs": [],
      "source": [
        "x = []\n",
        "for i in range( n ):\n",
        "    x.append( [ m.add_var( var_type = mip.BINARY, name = 'x_(%i,%i)' % ( i + 1, j + 1 ) )  for j in range( n ) ] )"
      ]
    },
    {
      "cell_type": "code",
      "execution_count": null,
      "metadata": {
        "id": "UcY3W-w5CnRd"
      },
      "outputs": [],
      "source": [
        "for j in range( n ):\n",
        "    m += mip.xsum( x[ i ][ j ] for i in range( n ) ) == 1"
      ]
    },
    {
      "cell_type": "code",
      "execution_count": null,
      "metadata": {
        "id": "aVQ1g1pBCnRd"
      },
      "outputs": [],
      "source": [
        "for j in range( n ):\n",
        "    m += mip.xsum( x[ i ][ j ] for i in range( n ) ) == mip.xsum( x[ j ][ i ] for i in range( n ) )"
      ]
    },
    {
      "cell_type": "code",
      "execution_count": null,
      "metadata": {
        "id": "nJu8bzOLCnRe"
      },
      "outputs": [],
      "source": [
        "m.objective = mip.xsum( C[ i, j ] * x[ i ][ j ] for i in range( n ) for j in range( n ) )"
      ]
    },
    {
      "cell_type": "code",
      "source": [
        "#https://docs.python.org/3/library/itertools.html#itertools.combinations\n",
        "from itertools import combinations\n",
        "#modificada para retornar listas e nao tuplas\n",
        "\n",
        "def combinations(iterable, r):\n",
        "    pool = tuple(iterable)\n",
        "    n = len(pool)\n",
        "    if r > n:\n",
        "        return\n",
        "    indices = list(range(r))\n",
        "    yield list(pool[i] for i in indices)\n",
        "    while True:\n",
        "        for i in reversed(range(r)):\n",
        "            if indices[i] != i + n - r:\n",
        "                break\n",
        "        else:\n",
        "            return\n",
        "        indices[i] += 1\n",
        "        for j in range(i+1, r):\n",
        "            indices[j] = indices[j-1] + 1\n",
        "        yield list(pool[i] for i in indices)"
      ],
      "metadata": {
        "id": "rf8KFz0_ALEH"
      },
      "execution_count": null,
      "outputs": []
    },
    {
      "cell_type": "code",
      "execution_count": null,
      "metadata": {
        "id": "OhlQ1jmyCnRe"
      },
      "outputs": [],
      "source": [
        "subconjs = []\n",
        "for i in range(1, (n//2)+1):\n",
        "  subconjs.append(list(combinations(range(n), i)))"
      ]
    },
    {
      "cell_type": "code",
      "execution_count": null,
      "metadata": {
        "id": "2qE-hbJYCnRf"
      },
      "outputs": [],
      "source": [
        "for s in subconjs:\n",
        "  for k in s:\n",
        "    m += mip.xsum( x[ i ][ j ] for i in k for j in k ) <= len( k ) - 1"
      ]
    },
    {
      "cell_type": "code",
      "execution_count": null,
      "metadata": {
        "id": "Qc-4Q4BpCnRf"
      },
      "outputs": [],
      "source": [
        "m.write( 'teste.lp' )"
      ]
    },
    {
      "cell_type": "code",
      "execution_count": null,
      "metadata": {
        "id": "7-H7MTMrCnRf",
        "colab": {
          "base_uri": "https://localhost:8080/"
        },
        "outputId": "54d3a70b-d974-452c-c6b5-fab5a5a16b3e"
      },
      "outputs": [
        {
          "output_type": "stream",
          "name": "stdout",
          "text": [
            "OptimizationStatus.OPTIMAL\n"
          ]
        }
      ],
      "source": [
        "status = m.optimize( max_seconds = 300 )\n"
      ]
    },
    {
      "cell_type": "code",
      "execution_count": null,
      "metadata": {
        "colab": {
          "base_uri": "https://localhost:8080/",
          "height": 374
        },
        "id": "hWmM0mwNCnRh",
        "outputId": "7d1e47d5-0e32-4e87-db06-43cb46317038"
      },
      "outputs": [
        {
          "output_type": "display_data",
          "data": {
            "text/plain": [
              "<Figure size 432x432 with 1 Axes>"
            ],
            "image/png": "[encoded data removed]"
          },
          "metadata": {
            "needs_background": "light"
          }
        }
      ],
      "source": [
        "import matplotlib.pyplot as pp\n",
        "\n",
        "pp.figure( figsize = ( 6, 6 ) )\n",
        "\n",
        "for pt in nodes:\n",
        "    pp.scatter( pt[ 0 ], pt[ 1 ], c = 'k' )\n",
        "\n",
        "for v in m.vars:\n",
        "    if v.x > 1e-5:\n",
        "        idx = [  int(x)  - 1 for x in v.name[ 3 : -1 ].split( ',' ) ]\n",
        "\n",
        "        o = nodes[ idx[ 0 ] ]\n",
        "        d = nodes[ idx[ 1 ] ]\n",
        "        pp.plot( [ o[ 0 ], d[ 0 ] ], [ o[ 1 ], d[ 1 ] ], 'r' )\n",
        "        \n",
        "\n",
        "pp.show()"
      ]
    },
    {
      "cell_type": "code",
      "execution_count": null,
      "metadata": {
        "id": "i6cMo49wCnRh",
        "colab": {
          "base_uri": "https://localhost:8080/"
        },
        "outputId": "9056435a-ad8d-4958-a3c2-d036267d8bcf"
      },
      "outputs": [
        {
          "output_type": "stream",
          "name": "stdout",
          "text": [
            "OptimizationStatus.OPTIMAL\n"
          ]
        }
      ],
      "source": [
        "print( status )"
      ]
    },
    {
      "cell_type": "code",
      "execution_count": null,
      "metadata": {
        "id": "k1ynEBrsCnRi",
        "colab": {
          "base_uri": "https://localhost:8080/"
        },
        "outputId": "02366b6a-326b-4512-ab73-ff2f9c71203b"
      },
      "outputs": [
        {
          "output_type": "stream",
          "name": "stdout",
          "text": [
            "0\n"
          ]
        }
      ],
      "source": [
        "print( status.value )"
      ]
    }
  ],
  "metadata": {
    "kernelspec": {
      "display_name": "Python 3.10.6 64-bit",
      "language": "python",
      "name": "python3"
    },
    "language_info": {
      "codemirror_mode": {
        "name": "ipython",
        "version": 3
      },
      "file_extension": ".py",
      "mimetype": "text/x-python",
      "name": "python",
      "nbconvert_exporter": "python",
      "pygments_lexer": "ipython3",
      "version": "3.10.6"
    },
    "orig_nbformat": 4,
    "vscode": {
      "interpreter": {
        "hash": "916dbcbb3f70747c44a77c7bcd40155683ae19c65e1c03b4aa3499c5328201f1"
      }
    },
    "colab": {
      "provenance": []
    }
  },
  "nbformat": 4,
  "nbformat_minor": 0
}